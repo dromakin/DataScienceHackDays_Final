{
  "nbformat": 4,
  "nbformat_minor": 0,
  "metadata": {
    "colab": {
      "name": "Untitled",
      "provenance": []
    },
    "kernelspec": {
      "name": "python3",
      "display_name": "Python 3"
    },
    "accelerator": "GPU"
  },
  "cells": [
    {
      "cell_type": "code",
      "metadata": {
        "id": "hfRxnxDz32zK",
        "colab_type": "code",
        "outputId": "008df465-2ec2-4d5c-f9ad-45d5faf4a624",
        "colab": {
          "base_uri": "https://localhost:8080/",
          "height": 34
        }
      },
      "source": [
        "!python --version"
      ],
      "execution_count": 0,
      "outputs": [
        {
          "output_type": "stream",
          "text": [
            "Python 3.6.9\n"
          ],
          "name": "stdout"
        }
      ]
    },
    {
      "cell_type": "code",
      "metadata": {
        "id": "eIvlgYMV39mt",
        "colab_type": "code",
        "colab": {}
      },
      "source": [
        "import pandas as pd\n",
        "import numpy as np\n",
        "import seaborn as sns\n",
        "import matplotlib.pyplot as plt\n",
        "%matplotlib inline\n",
        "\n",
        "seed = 0"
      ],
      "execution_count": 0,
      "outputs": []
    },
    {
      "cell_type": "code",
      "metadata": {
        "id": "ZAjJm32fOQQw",
        "colab_type": "code",
        "colab": {
          "base_uri": "https://localhost:8080/",
          "height": 224
        },
        "outputId": "72817d43-b8e6-4e10-a68d-e1481ee1237c"
      },
      "source": [
        "data = pd.read_csv('train_preprocess.csv', sep=';')\n",
        "data.head()"
      ],
      "execution_count": 3,
      "outputs": [
        {
          "output_type": "execute_result",
          "data": {
            "text/html": [
              "<div>\n",
              "<style scoped>\n",
              "    .dataframe tbody tr th:only-of-type {\n",
              "        vertical-align: middle;\n",
              "    }\n",
              "\n",
              "    .dataframe tbody tr th {\n",
              "        vertical-align: top;\n",
              "    }\n",
              "\n",
              "    .dataframe thead th {\n",
              "        text-align: right;\n",
              "    }\n",
              "</style>\n",
              "<table border=\"1\" class=\"dataframe\">\n",
              "  <thead>\n",
              "    <tr style=\"text-align: right;\">\n",
              "      <th></th>\n",
              "      <th>Location</th>\n",
              "      <th>MinTemp</th>\n",
              "      <th>MaxTemp</th>\n",
              "      <th>Rainfall</th>\n",
              "      <th>Evaporation</th>\n",
              "      <th>Sunshine</th>\n",
              "      <th>WindGustDir</th>\n",
              "      <th>WindGustSpeed</th>\n",
              "      <th>WindDir9am</th>\n",
              "      <th>WindDir3pm</th>\n",
              "      <th>WindSpeed9am</th>\n",
              "      <th>WindSpeed3pm</th>\n",
              "      <th>Humidity9am</th>\n",
              "      <th>Humidity3pm</th>\n",
              "      <th>Pressure9am</th>\n",
              "      <th>Pressure3pm</th>\n",
              "      <th>Cloud9am</th>\n",
              "      <th>Cloud3pm</th>\n",
              "      <th>Temp9am</th>\n",
              "      <th>Temp3pm</th>\n",
              "      <th>RainTomorrow</th>\n",
              "      <th>Year</th>\n",
              "      <th>Month</th>\n",
              "      <th>Day</th>\n",
              "      <th>WindSpeedDelta</th>\n",
              "      <th>WindDirChange</th>\n",
              "      <th>HumidityDelta</th>\n",
              "      <th>PressureDelta</th>\n",
              "      <th>CloudDelta</th>\n",
              "      <th>TempDelta</th>\n",
              "    </tr>\n",
              "  </thead>\n",
              "  <tbody>\n",
              "    <tr>\n",
              "      <th>0</th>\n",
              "      <td>Albury</td>\n",
              "      <td>13.4</td>\n",
              "      <td>22.9</td>\n",
              "      <td>0.6</td>\n",
              "      <td>NaN</td>\n",
              "      <td>NaN</td>\n",
              "      <td>W</td>\n",
              "      <td>44.0</td>\n",
              "      <td>W</td>\n",
              "      <td>WNW</td>\n",
              "      <td>20.0</td>\n",
              "      <td>24.0</td>\n",
              "      <td>71.0</td>\n",
              "      <td>22.0</td>\n",
              "      <td>1007.7</td>\n",
              "      <td>1007.1</td>\n",
              "      <td>8.0</td>\n",
              "      <td>NaN</td>\n",
              "      <td>16.9</td>\n",
              "      <td>21.8</td>\n",
              "      <td>False</td>\n",
              "      <td>2008</td>\n",
              "      <td>12</td>\n",
              "      <td>1</td>\n",
              "      <td>4.0</td>\n",
              "      <td>True</td>\n",
              "      <td>-49.0</td>\n",
              "      <td>-0.6</td>\n",
              "      <td>NaN</td>\n",
              "      <td>4.9</td>\n",
              "    </tr>\n",
              "    <tr>\n",
              "      <th>1</th>\n",
              "      <td>Albury</td>\n",
              "      <td>7.4</td>\n",
              "      <td>25.1</td>\n",
              "      <td>0.0</td>\n",
              "      <td>NaN</td>\n",
              "      <td>NaN</td>\n",
              "      <td>WNW</td>\n",
              "      <td>44.0</td>\n",
              "      <td>NNW</td>\n",
              "      <td>WSW</td>\n",
              "      <td>4.0</td>\n",
              "      <td>22.0</td>\n",
              "      <td>44.0</td>\n",
              "      <td>25.0</td>\n",
              "      <td>1010.6</td>\n",
              "      <td>1007.8</td>\n",
              "      <td>NaN</td>\n",
              "      <td>NaN</td>\n",
              "      <td>17.2</td>\n",
              "      <td>24.3</td>\n",
              "      <td>False</td>\n",
              "      <td>2008</td>\n",
              "      <td>12</td>\n",
              "      <td>2</td>\n",
              "      <td>18.0</td>\n",
              "      <td>True</td>\n",
              "      <td>-19.0</td>\n",
              "      <td>-2.8</td>\n",
              "      <td>NaN</td>\n",
              "      <td>7.1</td>\n",
              "    </tr>\n",
              "    <tr>\n",
              "      <th>2</th>\n",
              "      <td>Albury</td>\n",
              "      <td>12.9</td>\n",
              "      <td>25.7</td>\n",
              "      <td>0.0</td>\n",
              "      <td>NaN</td>\n",
              "      <td>NaN</td>\n",
              "      <td>WSW</td>\n",
              "      <td>46.0</td>\n",
              "      <td>W</td>\n",
              "      <td>WSW</td>\n",
              "      <td>19.0</td>\n",
              "      <td>26.0</td>\n",
              "      <td>38.0</td>\n",
              "      <td>30.0</td>\n",
              "      <td>1007.6</td>\n",
              "      <td>1008.7</td>\n",
              "      <td>NaN</td>\n",
              "      <td>2.0</td>\n",
              "      <td>21.0</td>\n",
              "      <td>23.2</td>\n",
              "      <td>False</td>\n",
              "      <td>2008</td>\n",
              "      <td>12</td>\n",
              "      <td>3</td>\n",
              "      <td>7.0</td>\n",
              "      <td>True</td>\n",
              "      <td>-8.0</td>\n",
              "      <td>1.1</td>\n",
              "      <td>NaN</td>\n",
              "      <td>2.2</td>\n",
              "    </tr>\n",
              "    <tr>\n",
              "      <th>3</th>\n",
              "      <td>Albury</td>\n",
              "      <td>9.2</td>\n",
              "      <td>28.0</td>\n",
              "      <td>0.0</td>\n",
              "      <td>NaN</td>\n",
              "      <td>NaN</td>\n",
              "      <td>NE</td>\n",
              "      <td>24.0</td>\n",
              "      <td>SE</td>\n",
              "      <td>E</td>\n",
              "      <td>11.0</td>\n",
              "      <td>9.0</td>\n",
              "      <td>45.0</td>\n",
              "      <td>16.0</td>\n",
              "      <td>1017.6</td>\n",
              "      <td>1012.8</td>\n",
              "      <td>NaN</td>\n",
              "      <td>NaN</td>\n",
              "      <td>18.1</td>\n",
              "      <td>26.5</td>\n",
              "      <td>False</td>\n",
              "      <td>2008</td>\n",
              "      <td>12</td>\n",
              "      <td>4</td>\n",
              "      <td>-2.0</td>\n",
              "      <td>True</td>\n",
              "      <td>-29.0</td>\n",
              "      <td>-4.8</td>\n",
              "      <td>NaN</td>\n",
              "      <td>8.4</td>\n",
              "    </tr>\n",
              "    <tr>\n",
              "      <th>4</th>\n",
              "      <td>Albury</td>\n",
              "      <td>17.5</td>\n",
              "      <td>32.3</td>\n",
              "      <td>1.0</td>\n",
              "      <td>NaN</td>\n",
              "      <td>NaN</td>\n",
              "      <td>W</td>\n",
              "      <td>41.0</td>\n",
              "      <td>ENE</td>\n",
              "      <td>NW</td>\n",
              "      <td>7.0</td>\n",
              "      <td>20.0</td>\n",
              "      <td>82.0</td>\n",
              "      <td>33.0</td>\n",
              "      <td>1010.8</td>\n",
              "      <td>1006.0</td>\n",
              "      <td>7.0</td>\n",
              "      <td>8.0</td>\n",
              "      <td>17.8</td>\n",
              "      <td>29.7</td>\n",
              "      <td>False</td>\n",
              "      <td>2008</td>\n",
              "      <td>12</td>\n",
              "      <td>5</td>\n",
              "      <td>13.0</td>\n",
              "      <td>True</td>\n",
              "      <td>-49.0</td>\n",
              "      <td>-4.8</td>\n",
              "      <td>1.0</td>\n",
              "      <td>11.9</td>\n",
              "    </tr>\n",
              "  </tbody>\n",
              "</table>\n",
              "</div>"
            ],
            "text/plain": [
              "  Location  MinTemp  MaxTemp  ...  PressureDelta  CloudDelta  TempDelta\n",
              "0   Albury     13.4     22.9  ...           -0.6         NaN        4.9\n",
              "1   Albury      7.4     25.1  ...           -2.8         NaN        7.1\n",
              "2   Albury     12.9     25.7  ...            1.1         NaN        2.2\n",
              "3   Albury      9.2     28.0  ...           -4.8         NaN        8.4\n",
              "4   Albury     17.5     32.3  ...           -4.8         1.0       11.9\n",
              "\n",
              "[5 rows x 30 columns]"
            ]
          },
          "metadata": {
            "tags": []
          },
          "execution_count": 3
        }
      ]
    },
    {
      "cell_type": "code",
      "metadata": {
        "id": "wdHNke6NOazQ",
        "colab_type": "code",
        "colab": {}
      },
      "source": [
        "y = data.RainTomorrow\n",
        "data.drop('RainTomorrow', axis=1, inplace=True)"
      ],
      "execution_count": 0,
      "outputs": []
    },
    {
      "cell_type": "code",
      "metadata": {
        "id": "LhGqVG4KOkm4",
        "colab_type": "code",
        "colab": {}
      },
      "source": [
        "categorical_cols = [cat for cat in data.columns if data[cat].dtype == 'O']\n",
        "numerical_cols = list(set(data.columns.values.tolist()) - set(categorical_cols))"
      ],
      "execution_count": 0,
      "outputs": []
    },
    {
      "cell_type": "code",
      "metadata": {
        "id": "vA-fGO26OmZs",
        "colab_type": "code",
        "colab": {}
      },
      "source": [
        "numeric_means = data[numerical_cols].mean()\n",
        "X_real_mean = data[numerical_cols].fillna(numeric_means)\n",
        "X_cat = data[categorical_cols].fillna('NaN')"
      ],
      "execution_count": 0,
      "outputs": []
    },
    {
      "cell_type": "code",
      "metadata": {
        "id": "OH1b_Hi8Osvo",
        "colab_type": "code",
        "colab": {}
      },
      "source": [
        "from sklearn.feature_extraction import DictVectorizer as DV\n",
        "\n",
        "encoder = DV(sparse = False)\n",
        "X_cat_oh = encoder.fit_transform(X_cat.astype('str').T.to_dict().values())"
      ],
      "execution_count": 0,
      "outputs": []
    },
    {
      "cell_type": "code",
      "metadata": {
        "id": "RkjZwJhbO7FL",
        "colab_type": "code",
        "colab": {
          "base_uri": "https://localhost:8080/",
          "height": 34
        },
        "outputId": "1fe526fb-cc9b-4516-9973-58c95ae35462"
      },
      "source": [
        "X_cat_oh.shape"
      ],
      "execution_count": 13,
      "outputs": [
        {
          "output_type": "execute_result",
          "data": {
            "text/plain": [
              "(70240, 81)"
            ]
          },
          "metadata": {
            "tags": []
          },
          "execution_count": 13
        }
      ]
    },
    {
      "cell_type": "code",
      "metadata": {
        "id": "H8699eJ0PECO",
        "colab_type": "code",
        "colab": {
          "base_uri": "https://localhost:8080/",
          "height": 34
        },
        "outputId": "13138aed-d0e4-46ff-8431-ae9eb2a0a11b"
      },
      "source": [
        "X = np.hstack((X_real_mean, X_cat_oh))\n",
        "X.shape"
      ],
      "execution_count": 14,
      "outputs": [
        {
          "output_type": "execute_result",
          "data": {
            "text/plain": [
              "(70240, 106)"
            ]
          },
          "metadata": {
            "tags": []
          },
          "execution_count": 14
        }
      ]
    },
    {
      "cell_type": "code",
      "metadata": {
        "id": "j0E8ZZsAPLfR",
        "colab_type": "code",
        "colab": {}
      },
      "source": [
        "from sklearn.model_selection import train_test_split\n",
        "\n",
        "(X_train, \n",
        " X_test, \n",
        " y_train, y_test) = train_test_split(X, y, \n",
        "                                     test_size=0.2, \n",
        "                                     random_state=seed,\n",
        "                                    stratify=y)"
      ],
      "execution_count": 0,
      "outputs": []
    },
    {
      "cell_type": "code",
      "metadata": {
        "id": "kEucZGSePVM-",
        "colab_type": "code",
        "colab": {}
      },
      "source": [
        "from sklearn.preprocessing import StandardScaler\n",
        "\n",
        "scaler = StandardScaler()\n",
        "X_train = scaler.fit_transform(X_train)\n",
        "X_test = scaler.transform(X_test)"
      ],
      "execution_count": 0,
      "outputs": []
    },
    {
      "cell_type": "code",
      "metadata": {
        "id": "BwyhGQyQR1ka",
        "colab_type": "code",
        "colab": {}
      },
      "source": [
        "y_train = y_train.values\n",
        "y_test = y_test.values"
      ],
      "execution_count": 0,
      "outputs": []
    },
    {
      "cell_type": "code",
      "metadata": {
        "id": "SrnwbZzlVWe9",
        "colab_type": "code",
        "colab": {
          "base_uri": "https://localhost:8080/",
          "height": 34
        },
        "outputId": "27d67a8b-034c-40e6-c93e-bbcd47f14a5a"
      },
      "source": [
        "y_test"
      ],
      "execution_count": 39,
      "outputs": [
        {
          "output_type": "execute_result",
          "data": {
            "text/plain": [
              "array([False, False, False, ..., False, False, False])"
            ]
          },
          "metadata": {
            "tags": []
          },
          "execution_count": 39
        }
      ]
    },
    {
      "cell_type": "code",
      "metadata": {
        "id": "Wjzx3cghP70P",
        "colab_type": "code",
        "colab": {}
      },
      "source": [
        "import keras\n",
        "from keras.layers import Input, Dense, Dropout, BatchNormalization, ReLU\n",
        "from keras.models import Sequential\n",
        "from keras import backend as K\n",
        "from keras.callbacks import ModelCheckpoint"
      ],
      "execution_count": 0,
      "outputs": []
    },
    {
      "cell_type": "code",
      "metadata": {
        "id": "R2V8gWD6S8Bt",
        "colab_type": "code",
        "colab": {}
      },
      "source": [
        "def f1(y_true, y_pred):\n",
        "    def recall(y_true, y_pred):\n",
        "        \"\"\"Recall metric.\n",
        "        Only computes a batch-wise average of recall.\n",
        "        Computes the recall, a metric for multi-label classification of\n",
        "        how many relevant items are selected.\n",
        "        \"\"\"\n",
        "        true_positives = K.sum(K.round(K.clip(y_true * y_pred, 0, 1)))\n",
        "        possible_positives = K.sum(K.round(K.clip(y_true, 0, 1)))\n",
        "        recall = true_positives / (possible_positives + K.epsilon())\n",
        "        return recall\n",
        "\n",
        "    def precision(y_true, y_pred):\n",
        "        \"\"\"Precision metric.\n",
        "        Only computes a batch-wise average of precision.\n",
        "        Computes the precision, a metric for multi-label classification of\n",
        "        how many selected items are relevant.\n",
        "        \"\"\"\n",
        "        true_positives = K.sum(K.round(K.clip(y_true * y_pred, 0, 1)))\n",
        "        predicted_positives = K.sum(K.round(K.clip(y_pred, 0, 1)))\n",
        "        precision = true_positives / (predicted_positives + K.epsilon())\n",
        "        return precision\n",
        "\n",
        "    precision = precision(y_true, y_pred)\n",
        "    recall = recall(y_true, y_pred)\n",
        "    return 2 * ((precision * recall) / (precision + recall + K.epsilon()))"
      ],
      "execution_count": 0,
      "outputs": []
    },
    {
      "cell_type": "code",
      "metadata": {
        "id": "OMEvLlmcRInc",
        "colab_type": "code",
        "colab": {}
      },
      "source": [
        "model = Sequential()\n",
        "model.add(Dense(64, input_shape=(X_train.shape[1],)))\n",
        "model.add(BatchNormalization())\n",
        "model.add(ReLU())\n",
        "model.add(Dropout(0.3))\n",
        "model.add(Dense(32))\n",
        "model.add(BatchNormalization())\n",
        "model.add(ReLU())\n",
        "model.add(Dropout(0.3))\n",
        "model.add(Dense(16))\n",
        "model.add(BatchNormalization())\n",
        "model.add(ReLU())\n",
        "model.add(Dropout(0.3))\n",
        "model.add(Dense(1, activation='sigmoid'))\n",
        "\n",
        "model.compile(optimizer='adam', loss='binary_crossentropy', metrics=['accuracy', f1])\n",
        "checkpoint = ModelCheckpoint(\"./nn-{epoch:02d}-{val_f1:.2f}.hdf5\",\n",
        "                             monitor='val_f1', save_best_only=True, mode='max', period=1)"
      ],
      "execution_count": 0,
      "outputs": []
    },
    {
      "cell_type": "code",
      "metadata": {
        "id": "aaAq4Tn7Tu2i",
        "colab_type": "code",
        "colab": {
          "base_uri": "https://localhost:8080/",
          "height": 595
        },
        "outputId": "5634b6bf-18e9-4261-e2f9-9cb0911292f9"
      },
      "source": [
        "model.summary()"
      ],
      "execution_count": 69,
      "outputs": [
        {
          "output_type": "stream",
          "text": [
            "Model: \"sequential_7\"\n",
            "_________________________________________________________________\n",
            "Layer (type)                 Output Shape              Param #   \n",
            "=================================================================\n",
            "dense_17 (Dense)             (None, 64)                6848      \n",
            "_________________________________________________________________\n",
            "batch_normalization_1 (Batch (None, 64)                256       \n",
            "_________________________________________________________________\n",
            "re_lu_1 (ReLU)               (None, 64)                0         \n",
            "_________________________________________________________________\n",
            "dropout_1 (Dropout)          (None, 64)                0         \n",
            "_________________________________________________________________\n",
            "dense_18 (Dense)             (None, 32)                2080      \n",
            "_________________________________________________________________\n",
            "batch_normalization_2 (Batch (None, 32)                128       \n",
            "_________________________________________________________________\n",
            "re_lu_2 (ReLU)               (None, 32)                0         \n",
            "_________________________________________________________________\n",
            "dropout_2 (Dropout)          (None, 32)                0         \n",
            "_________________________________________________________________\n",
            "dense_19 (Dense)             (None, 16)                528       \n",
            "_________________________________________________________________\n",
            "batch_normalization_3 (Batch (None, 16)                64        \n",
            "_________________________________________________________________\n",
            "re_lu_3 (ReLU)               (None, 16)                0         \n",
            "_________________________________________________________________\n",
            "dropout_3 (Dropout)          (None, 16)                0         \n",
            "_________________________________________________________________\n",
            "dense_20 (Dense)             (None, 1)                 17        \n",
            "=================================================================\n",
            "Total params: 9,921\n",
            "Trainable params: 9,697\n",
            "Non-trainable params: 224\n",
            "_________________________________________________________________\n"
          ],
          "name": "stdout"
        }
      ]
    },
    {
      "cell_type": "code",
      "metadata": {
        "id": "Lib1MilNURrJ",
        "colab_type": "code",
        "colab": {
          "base_uri": "https://localhost:8080/",
          "height": 1000
        },
        "outputId": "b4a976d4-9e8a-49e9-f621-01ebb97d8dd4"
      },
      "source": [
        "model_history = model.fit(X_train, y_train, batch_size=128, epochs=50, validation_split=0.1, callbacks=[checkpoint], shuffle=True)"
      ],
      "execution_count": 70,
      "outputs": [
        {
          "output_type": "stream",
          "text": [
            "Train on 50572 samples, validate on 5620 samples\n",
            "Epoch 1/50\n",
            "50572/50572 [==============================] - 3s 63us/step - loss: 0.5862 - accuracy: 0.6994 - f1: 0.4929 - val_loss: 0.3985 - val_accuracy: 0.8230 - val_f1: 0.5959\n",
            "Epoch 2/50\n",
            "50572/50572 [==============================] - 3s 52us/step - loss: 0.4115 - accuracy: 0.8222 - f1: 0.5583 - val_loss: 0.3777 - val_accuracy: 0.8345 - val_f1: 0.5888\n",
            "Epoch 3/50\n",
            "50572/50572 [==============================] - 3s 52us/step - loss: 0.3947 - accuracy: 0.8279 - f1: 0.5701 - val_loss: 0.3727 - val_accuracy: 0.8406 - val_f1: 0.5901\n",
            "Epoch 4/50\n",
            "50572/50572 [==============================] - 3s 51us/step - loss: 0.3847 - accuracy: 0.8310 - f1: 0.5755 - val_loss: 0.3662 - val_accuracy: 0.8432 - val_f1: 0.5890\n",
            "Epoch 5/50\n",
            "50572/50572 [==============================] - 3s 53us/step - loss: 0.3793 - accuracy: 0.8354 - f1: 0.5834 - val_loss: 0.3614 - val_accuracy: 0.8464 - val_f1: 0.5904\n",
            "Epoch 6/50\n",
            "50572/50572 [==============================] - 3s 52us/step - loss: 0.3727 - accuracy: 0.8375 - f1: 0.5868 - val_loss: 0.3597 - val_accuracy: 0.8480 - val_f1: 0.5972\n",
            "Epoch 7/50\n",
            "50572/50572 [==============================] - 3s 52us/step - loss: 0.3685 - accuracy: 0.8392 - f1: 0.5888 - val_loss: 0.3571 - val_accuracy: 0.8473 - val_f1: 0.5792\n",
            "Epoch 8/50\n",
            "50572/50572 [==============================] - 3s 51us/step - loss: 0.3650 - accuracy: 0.8398 - f1: 0.5874 - val_loss: 0.3543 - val_accuracy: 0.8486 - val_f1: 0.5936\n",
            "Epoch 9/50\n",
            "50572/50572 [==============================] - 3s 52us/step - loss: 0.3587 - accuracy: 0.8405 - f1: 0.5952 - val_loss: 0.3533 - val_accuracy: 0.8482 - val_f1: 0.5896\n",
            "Epoch 10/50\n",
            "50572/50572 [==============================] - 3s 53us/step - loss: 0.3581 - accuracy: 0.8442 - f1: 0.6035 - val_loss: 0.3521 - val_accuracy: 0.8480 - val_f1: 0.5864\n",
            "Epoch 11/50\n",
            "50572/50572 [==============================] - 3s 52us/step - loss: 0.3559 - accuracy: 0.8431 - f1: 0.6001 - val_loss: 0.3514 - val_accuracy: 0.8493 - val_f1: 0.5857\n",
            "Epoch 12/50\n",
            "50572/50572 [==============================] - 3s 52us/step - loss: 0.3539 - accuracy: 0.8440 - f1: 0.6027 - val_loss: 0.3511 - val_accuracy: 0.8527 - val_f1: 0.6094\n",
            "Epoch 13/50\n",
            "50572/50572 [==============================] - 3s 52us/step - loss: 0.3524 - accuracy: 0.8462 - f1: 0.6119 - val_loss: 0.3508 - val_accuracy: 0.8518 - val_f1: 0.5986\n",
            "Epoch 14/50\n",
            "50572/50572 [==============================] - 3s 52us/step - loss: 0.3479 - accuracy: 0.8480 - f1: 0.6143 - val_loss: 0.3493 - val_accuracy: 0.8550 - val_f1: 0.6100\n",
            "Epoch 15/50\n",
            "50572/50572 [==============================] - 3s 51us/step - loss: 0.3491 - accuracy: 0.8467 - f1: 0.6139 - val_loss: 0.3484 - val_accuracy: 0.8505 - val_f1: 0.6042\n",
            "Epoch 16/50\n",
            "50572/50572 [==============================] - 3s 51us/step - loss: 0.3466 - accuracy: 0.8481 - f1: 0.6185 - val_loss: 0.3460 - val_accuracy: 0.8530 - val_f1: 0.6075\n",
            "Epoch 17/50\n",
            "50572/50572 [==============================] - 3s 52us/step - loss: 0.3454 - accuracy: 0.8486 - f1: 0.6200 - val_loss: 0.3476 - val_accuracy: 0.8521 - val_f1: 0.6049\n",
            "Epoch 18/50\n",
            "50572/50572 [==============================] - 3s 52us/step - loss: 0.3442 - accuracy: 0.8484 - f1: 0.6190 - val_loss: 0.3469 - val_accuracy: 0.8544 - val_f1: 0.6091\n",
            "Epoch 19/50\n",
            "50572/50572 [==============================] - 3s 52us/step - loss: 0.3410 - accuracy: 0.8489 - f1: 0.6194 - val_loss: 0.3469 - val_accuracy: 0.8569 - val_f1: 0.6157\n",
            "Epoch 20/50\n",
            "50572/50572 [==============================] - 3s 52us/step - loss: 0.3423 - accuracy: 0.8507 - f1: 0.6216 - val_loss: 0.3442 - val_accuracy: 0.8560 - val_f1: 0.6170\n",
            "Epoch 21/50\n",
            "50572/50572 [==============================] - 3s 52us/step - loss: 0.3382 - accuracy: 0.8505 - f1: 0.6219 - val_loss: 0.3451 - val_accuracy: 0.8548 - val_f1: 0.6133\n",
            "Epoch 22/50\n",
            "50572/50572 [==============================] - 3s 51us/step - loss: 0.3383 - accuracy: 0.8529 - f1: 0.6322 - val_loss: 0.3442 - val_accuracy: 0.8564 - val_f1: 0.6143\n",
            "Epoch 23/50\n",
            "50572/50572 [==============================] - 3s 53us/step - loss: 0.3384 - accuracy: 0.8515 - f1: 0.6277 - val_loss: 0.3442 - val_accuracy: 0.8559 - val_f1: 0.6222\n",
            "Epoch 24/50\n",
            "50572/50572 [==============================] - 3s 51us/step - loss: 0.3365 - accuracy: 0.8532 - f1: 0.6332 - val_loss: 0.3459 - val_accuracy: 0.8557 - val_f1: 0.6189\n",
            "Epoch 25/50\n",
            "50572/50572 [==============================] - 3s 52us/step - loss: 0.3345 - accuracy: 0.8530 - f1: 0.6317 - val_loss: 0.3445 - val_accuracy: 0.8516 - val_f1: 0.6151\n",
            "Epoch 26/50\n",
            "50572/50572 [==============================] - 3s 52us/step - loss: 0.3349 - accuracy: 0.8537 - f1: 0.6346 - val_loss: 0.3440 - val_accuracy: 0.8568 - val_f1: 0.6195\n",
            "Epoch 27/50\n",
            "50572/50572 [==============================] - 3s 51us/step - loss: 0.3324 - accuracy: 0.8540 - f1: 0.6339 - val_loss: 0.3461 - val_accuracy: 0.8543 - val_f1: 0.6105\n",
            "Epoch 28/50\n",
            "50572/50572 [==============================] - 3s 53us/step - loss: 0.3331 - accuracy: 0.8557 - f1: 0.6377 - val_loss: 0.3440 - val_accuracy: 0.8521 - val_f1: 0.6061\n",
            "Epoch 29/50\n",
            "50572/50572 [==============================] - 3s 51us/step - loss: 0.3335 - accuracy: 0.8537 - f1: 0.6342 - val_loss: 0.3450 - val_accuracy: 0.8544 - val_f1: 0.6160\n",
            "Epoch 30/50\n",
            "50572/50572 [==============================] - 3s 52us/step - loss: 0.3325 - accuracy: 0.8540 - f1: 0.6341 - val_loss: 0.3440 - val_accuracy: 0.8532 - val_f1: 0.6077\n",
            "Epoch 31/50\n",
            "50572/50572 [==============================] - 3s 51us/step - loss: 0.3283 - accuracy: 0.8553 - f1: 0.6379 - val_loss: 0.3445 - val_accuracy: 0.8555 - val_f1: 0.6200\n",
            "Epoch 32/50\n",
            "50572/50572 [==============================] - 3s 51us/step - loss: 0.3311 - accuracy: 0.8543 - f1: 0.6347 - val_loss: 0.3444 - val_accuracy: 0.8550 - val_f1: 0.6179\n",
            "Epoch 33/50\n",
            "50572/50572 [==============================] - 3s 52us/step - loss: 0.3304 - accuracy: 0.8551 - f1: 0.6383 - val_loss: 0.3436 - val_accuracy: 0.8569 - val_f1: 0.6187\n",
            "Epoch 34/50\n",
            "50572/50572 [==============================] - 3s 53us/step - loss: 0.3255 - accuracy: 0.8554 - f1: 0.6398 - val_loss: 0.3454 - val_accuracy: 0.8569 - val_f1: 0.6167\n",
            "Epoch 35/50\n",
            "50572/50572 [==============================] - 3s 53us/step - loss: 0.3300 - accuracy: 0.8544 - f1: 0.6339 - val_loss: 0.3441 - val_accuracy: 0.8532 - val_f1: 0.6171\n",
            "Epoch 36/50\n",
            "50572/50572 [==============================] - 3s 52us/step - loss: 0.3277 - accuracy: 0.8573 - f1: 0.6457 - val_loss: 0.3453 - val_accuracy: 0.8580 - val_f1: 0.6185\n",
            "Epoch 37/50\n",
            "50572/50572 [==============================] - 3s 52us/step - loss: 0.3282 - accuracy: 0.8559 - f1: 0.6410 - val_loss: 0.3434 - val_accuracy: 0.8573 - val_f1: 0.6199\n",
            "Epoch 38/50\n",
            "50572/50572 [==============================] - 3s 52us/step - loss: 0.3272 - accuracy: 0.8570 - f1: 0.6440 - val_loss: 0.3444 - val_accuracy: 0.8573 - val_f1: 0.6151\n",
            "Epoch 39/50\n",
            "50572/50572 [==============================] - 3s 51us/step - loss: 0.3253 - accuracy: 0.8572 - f1: 0.6455 - val_loss: 0.3435 - val_accuracy: 0.8593 - val_f1: 0.6276\n",
            "Epoch 40/50\n",
            "50572/50572 [==============================] - 3s 52us/step - loss: 0.3259 - accuracy: 0.8571 - f1: 0.6436 - val_loss: 0.3448 - val_accuracy: 0.8566 - val_f1: 0.6223\n",
            "Epoch 41/50\n",
            "50572/50572 [==============================] - 3s 52us/step - loss: 0.3269 - accuracy: 0.8575 - f1: 0.6438 - val_loss: 0.3442 - val_accuracy: 0.8562 - val_f1: 0.6186\n",
            "Epoch 42/50\n",
            "50572/50572 [==============================] - 3s 52us/step - loss: 0.3260 - accuracy: 0.8569 - f1: 0.6422 - val_loss: 0.3437 - val_accuracy: 0.8560 - val_f1: 0.6130\n",
            "Epoch 43/50\n",
            "50572/50572 [==============================] - 3s 52us/step - loss: 0.3242 - accuracy: 0.8584 - f1: 0.6462 - val_loss: 0.3455 - val_accuracy: 0.8569 - val_f1: 0.6139\n",
            "Epoch 44/50\n",
            "50572/50572 [==============================] - 3s 52us/step - loss: 0.3224 - accuracy: 0.8595 - f1: 0.6530 - val_loss: 0.3468 - val_accuracy: 0.8552 - val_f1: 0.6272\n",
            "Epoch 45/50\n",
            "50572/50572 [==============================] - 3s 51us/step - loss: 0.3225 - accuracy: 0.8602 - f1: 0.6538 - val_loss: 0.3466 - val_accuracy: 0.8557 - val_f1: 0.6121\n",
            "Epoch 46/50\n",
            "50572/50572 [==============================] - 3s 52us/step - loss: 0.3225 - accuracy: 0.8607 - f1: 0.6520 - val_loss: 0.3474 - val_accuracy: 0.8553 - val_f1: 0.6222\n",
            "Epoch 47/50\n",
            "50572/50572 [==============================] - 3s 52us/step - loss: 0.3231 - accuracy: 0.8599 - f1: 0.6505 - val_loss: 0.3458 - val_accuracy: 0.8552 - val_f1: 0.6196\n",
            "Epoch 48/50\n",
            "50572/50572 [==============================] - 3s 51us/step - loss: 0.3206 - accuracy: 0.8595 - f1: 0.6528 - val_loss: 0.3487 - val_accuracy: 0.8552 - val_f1: 0.6144\n",
            "Epoch 49/50\n",
            "50572/50572 [==============================] - 3s 50us/step - loss: 0.3217 - accuracy: 0.8576 - f1: 0.6464 - val_loss: 0.3468 - val_accuracy: 0.8557 - val_f1: 0.6125\n",
            "Epoch 50/50\n",
            "50572/50572 [==============================] - 3s 51us/step - loss: 0.3209 - accuracy: 0.8603 - f1: 0.6528 - val_loss: 0.3462 - val_accuracy: 0.8543 - val_f1: 0.6158\n"
          ],
          "name": "stdout"
        }
      ]
    },
    {
      "cell_type": "code",
      "metadata": {
        "id": "tpIp3IzuU9CM",
        "colab_type": "code",
        "colab": {
          "base_uri": "https://localhost:8080/",
          "height": 51
        },
        "outputId": "7a6ef39e-87ca-4a71-8b49-54292067101e"
      },
      "source": [
        "model.evaluate(X_test, y_test)"
      ],
      "execution_count": 71,
      "outputs": [
        {
          "output_type": "stream",
          "text": [
            "14048/14048 [==============================] - 1s 73us/step\n"
          ],
          "name": "stdout"
        },
        {
          "output_type": "execute_result",
          "data": {
            "text/plain": [
              "[0.3382171496986528, 0.8554954528808594, 0.6135863661766052]"
            ]
          },
          "metadata": {
            "tags": []
          },
          "execution_count": 71
        }
      ]
    },
    {
      "cell_type": "code",
      "metadata": {
        "id": "WZaVPFeJWMpy",
        "colab_type": "code",
        "colab": {
          "base_uri": "https://localhost:8080/",
          "height": 306
        },
        "outputId": "aba46114-6e5b-4800-dacd-1189cffdcfa9"
      },
      "source": [
        "f1(y_test, y_pred)"
      ],
      "execution_count": 49,
      "outputs": [
        {
          "output_type": "error",
          "ename": "TypeError",
          "evalue": "ignored",
          "traceback": [
            "\u001b[0;31m---------------------------------------------------------------------------\u001b[0m",
            "\u001b[0;31mTypeError\u001b[0m                                 Traceback (most recent call last)",
            "\u001b[0;32m<ipython-input-49-ba6f2ffd2e3a>\u001b[0m in \u001b[0;36m<module>\u001b[0;34m()\u001b[0m\n\u001b[0;32m----> 1\u001b[0;31m \u001b[0mf1\u001b[0m\u001b[0;34m(\u001b[0m\u001b[0my_test\u001b[0m\u001b[0;34m,\u001b[0m \u001b[0my_pred\u001b[0m\u001b[0;34m)\u001b[0m\u001b[0;34m\u001b[0m\u001b[0;34m\u001b[0m\u001b[0m\n\u001b[0m",
            "\u001b[0;32m<ipython-input-24-ec05ca7921cd>\u001b[0m in \u001b[0;36mf1\u001b[0;34m(y_true, y_pred)\u001b[0m\n\u001b[1;32m     22\u001b[0m         \u001b[0;32mreturn\u001b[0m \u001b[0mprecision\u001b[0m\u001b[0;34m\u001b[0m\u001b[0;34m\u001b[0m\u001b[0m\n\u001b[1;32m     23\u001b[0m \u001b[0;34m\u001b[0m\u001b[0m\n\u001b[0;32m---> 24\u001b[0;31m     \u001b[0mprecision\u001b[0m \u001b[0;34m=\u001b[0m \u001b[0mprecision\u001b[0m\u001b[0;34m(\u001b[0m\u001b[0my_true\u001b[0m\u001b[0;34m,\u001b[0m \u001b[0my_pred\u001b[0m\u001b[0;34m)\u001b[0m\u001b[0;34m\u001b[0m\u001b[0;34m\u001b[0m\u001b[0m\n\u001b[0m\u001b[1;32m     25\u001b[0m     \u001b[0mrecall\u001b[0m \u001b[0;34m=\u001b[0m \u001b[0mrecall\u001b[0m\u001b[0;34m(\u001b[0m\u001b[0my_true\u001b[0m\u001b[0;34m,\u001b[0m \u001b[0my_pred\u001b[0m\u001b[0;34m)\u001b[0m\u001b[0;34m\u001b[0m\u001b[0;34m\u001b[0m\u001b[0m\n\u001b[1;32m     26\u001b[0m     \u001b[0;32mreturn\u001b[0m \u001b[0;36m2\u001b[0m \u001b[0;34m*\u001b[0m \u001b[0;34m(\u001b[0m\u001b[0;34m(\u001b[0m\u001b[0mprecision\u001b[0m \u001b[0;34m*\u001b[0m \u001b[0mrecall\u001b[0m\u001b[0;34m)\u001b[0m \u001b[0;34m/\u001b[0m \u001b[0;34m(\u001b[0m\u001b[0mprecision\u001b[0m \u001b[0;34m+\u001b[0m \u001b[0mrecall\u001b[0m \u001b[0;34m+\u001b[0m \u001b[0mK\u001b[0m\u001b[0;34m.\u001b[0m\u001b[0mepsilon\u001b[0m\u001b[0;34m(\u001b[0m\u001b[0;34m)\u001b[0m\u001b[0;34m)\u001b[0m\u001b[0;34m)\u001b[0m\u001b[0;34m\u001b[0m\u001b[0;34m\u001b[0m\u001b[0m\n",
            "\u001b[0;32m<ipython-input-24-ec05ca7921cd>\u001b[0m in \u001b[0;36mprecision\u001b[0;34m(y_true, y_pred)\u001b[0m\n\u001b[1;32m     17\u001b[0m         \u001b[0mhow\u001b[0m \u001b[0mmany\u001b[0m \u001b[0mselected\u001b[0m \u001b[0mitems\u001b[0m \u001b[0mare\u001b[0m \u001b[0mrelevant\u001b[0m\u001b[0;34m.\u001b[0m\u001b[0;34m\u001b[0m\u001b[0;34m\u001b[0m\u001b[0m\n\u001b[1;32m     18\u001b[0m         \"\"\"\n\u001b[0;32m---> 19\u001b[0;31m         \u001b[0mtrue_positives\u001b[0m \u001b[0;34m=\u001b[0m \u001b[0mK\u001b[0m\u001b[0;34m.\u001b[0m\u001b[0msum\u001b[0m\u001b[0;34m(\u001b[0m\u001b[0mK\u001b[0m\u001b[0;34m.\u001b[0m\u001b[0mround\u001b[0m\u001b[0;34m(\u001b[0m\u001b[0mK\u001b[0m\u001b[0;34m.\u001b[0m\u001b[0mclip\u001b[0m\u001b[0;34m(\u001b[0m\u001b[0my_true\u001b[0m \u001b[0;34m*\u001b[0m \u001b[0my_pred\u001b[0m\u001b[0;34m,\u001b[0m \u001b[0;36m0\u001b[0m\u001b[0;34m,\u001b[0m \u001b[0;36m1\u001b[0m\u001b[0;34m)\u001b[0m\u001b[0;34m)\u001b[0m\u001b[0;34m)\u001b[0m\u001b[0;34m\u001b[0m\u001b[0;34m\u001b[0m\u001b[0m\n\u001b[0m\u001b[1;32m     20\u001b[0m         \u001b[0mpredicted_positives\u001b[0m \u001b[0;34m=\u001b[0m \u001b[0mK\u001b[0m\u001b[0;34m.\u001b[0m\u001b[0msum\u001b[0m\u001b[0;34m(\u001b[0m\u001b[0mK\u001b[0m\u001b[0;34m.\u001b[0m\u001b[0mround\u001b[0m\u001b[0;34m(\u001b[0m\u001b[0mK\u001b[0m\u001b[0;34m.\u001b[0m\u001b[0mclip\u001b[0m\u001b[0;34m(\u001b[0m\u001b[0my_pred\u001b[0m\u001b[0;34m,\u001b[0m \u001b[0;36m0\u001b[0m\u001b[0;34m,\u001b[0m \u001b[0;36m1\u001b[0m\u001b[0;34m)\u001b[0m\u001b[0;34m)\u001b[0m\u001b[0;34m)\u001b[0m\u001b[0;34m\u001b[0m\u001b[0;34m\u001b[0m\u001b[0m\n\u001b[1;32m     21\u001b[0m         \u001b[0mprecision\u001b[0m \u001b[0;34m=\u001b[0m \u001b[0mtrue_positives\u001b[0m \u001b[0;34m/\u001b[0m \u001b[0;34m(\u001b[0m\u001b[0mpredicted_positives\u001b[0m \u001b[0;34m+\u001b[0m \u001b[0mK\u001b[0m\u001b[0;34m.\u001b[0m\u001b[0mepsilon\u001b[0m\u001b[0;34m(\u001b[0m\u001b[0;34m)\u001b[0m\u001b[0;34m)\u001b[0m\u001b[0;34m\u001b[0m\u001b[0;34m\u001b[0m\u001b[0m\n",
            "\u001b[0;32m/usr/local/lib/python3.6/dist-packages/keras/backend/tensorflow_backend.py\u001b[0m in \u001b[0;36mclip\u001b[0;34m(x, min_value, max_value)\u001b[0m\n\u001b[1;32m   2025\u001b[0m     \u001b[0;32mif\u001b[0m \u001b[0mmax_value\u001b[0m \u001b[0;32mis\u001b[0m \u001b[0;32mNone\u001b[0m\u001b[0;34m:\u001b[0m\u001b[0;34m\u001b[0m\u001b[0;34m\u001b[0m\u001b[0m\n\u001b[1;32m   2026\u001b[0m         \u001b[0mmax_value\u001b[0m \u001b[0;34m=\u001b[0m \u001b[0mnp\u001b[0m\u001b[0;34m.\u001b[0m\u001b[0minf\u001b[0m\u001b[0;34m\u001b[0m\u001b[0;34m\u001b[0m\u001b[0m\n\u001b[0;32m-> 2027\u001b[0;31m     \u001b[0;32mreturn\u001b[0m \u001b[0mtf\u001b[0m\u001b[0;34m.\u001b[0m\u001b[0mclip_by_value\u001b[0m\u001b[0;34m(\u001b[0m\u001b[0mx\u001b[0m\u001b[0;34m,\u001b[0m \u001b[0mmin_value\u001b[0m\u001b[0;34m,\u001b[0m \u001b[0mmax_value\u001b[0m\u001b[0;34m)\u001b[0m\u001b[0;34m\u001b[0m\u001b[0;34m\u001b[0m\u001b[0m\n\u001b[0m\u001b[1;32m   2028\u001b[0m \u001b[0;34m\u001b[0m\u001b[0m\n\u001b[1;32m   2029\u001b[0m \u001b[0;34m\u001b[0m\u001b[0m\n",
            "\u001b[0;32m/usr/local/lib/python3.6/dist-packages/tensorflow/python/util/dispatch.py\u001b[0m in \u001b[0;36mwrapper\u001b[0;34m(*args, **kwargs)\u001b[0m\n\u001b[1;32m    178\u001b[0m     \u001b[0;34m\"\"\"Call target, and fall back on dispatchers if there is a TypeError.\"\"\"\u001b[0m\u001b[0;34m\u001b[0m\u001b[0;34m\u001b[0m\u001b[0m\n\u001b[1;32m    179\u001b[0m     \u001b[0;32mtry\u001b[0m\u001b[0;34m:\u001b[0m\u001b[0;34m\u001b[0m\u001b[0;34m\u001b[0m\u001b[0m\n\u001b[0;32m--> 180\u001b[0;31m       \u001b[0;32mreturn\u001b[0m \u001b[0mtarget\u001b[0m\u001b[0;34m(\u001b[0m\u001b[0;34m*\u001b[0m\u001b[0margs\u001b[0m\u001b[0;34m,\u001b[0m \u001b[0;34m**\u001b[0m\u001b[0mkwargs\u001b[0m\u001b[0;34m)\u001b[0m\u001b[0;34m\u001b[0m\u001b[0;34m\u001b[0m\u001b[0m\n\u001b[0m\u001b[1;32m    181\u001b[0m     \u001b[0;32mexcept\u001b[0m \u001b[0;34m(\u001b[0m\u001b[0mTypeError\u001b[0m\u001b[0;34m,\u001b[0m \u001b[0mValueError\u001b[0m\u001b[0;34m)\u001b[0m\u001b[0;34m:\u001b[0m\u001b[0;34m\u001b[0m\u001b[0;34m\u001b[0m\u001b[0m\n\u001b[1;32m    182\u001b[0m       \u001b[0;31m# Note: convert_to_eager_tensor currently raises a ValueError, not a\u001b[0m\u001b[0;34m\u001b[0m\u001b[0;34m\u001b[0m\u001b[0;34m\u001b[0m\u001b[0m\n",
            "\u001b[0;32m/usr/local/lib/python3.6/dist-packages/tensorflow/python/ops/clip_ops.py\u001b[0m in \u001b[0;36mclip_by_value\u001b[0;34m(t, clip_value_min, clip_value_max, name)\u001b[0m\n\u001b[1;32m    109\u001b[0m \u001b[0;34m\u001b[0m\u001b[0m\n\u001b[1;32m    110\u001b[0m     \u001b[0;31m# Go through list of tensors, for each value in each tensor clip\u001b[0m\u001b[0;34m\u001b[0m\u001b[0;34m\u001b[0m\u001b[0;34m\u001b[0m\u001b[0m\n\u001b[0;32m--> 111\u001b[0;31m     \u001b[0mt_min\u001b[0m \u001b[0;34m=\u001b[0m \u001b[0mmath_ops\u001b[0m\u001b[0;34m.\u001b[0m\u001b[0mminimum\u001b[0m\u001b[0;34m(\u001b[0m\u001b[0mvalues\u001b[0m\u001b[0;34m,\u001b[0m \u001b[0mclip_value_max\u001b[0m\u001b[0;34m)\u001b[0m\u001b[0;34m\u001b[0m\u001b[0;34m\u001b[0m\u001b[0m\n\u001b[0m\u001b[1;32m    112\u001b[0m     \u001b[0;31m# Assert that the shape is compatible with the initial shape,\u001b[0m\u001b[0;34m\u001b[0m\u001b[0;34m\u001b[0m\u001b[0;34m\u001b[0m\u001b[0m\n\u001b[1;32m    113\u001b[0m     \u001b[0;31m# to prevent unintentional broadcasting.\u001b[0m\u001b[0;34m\u001b[0m\u001b[0;34m\u001b[0m\u001b[0;34m\u001b[0m\u001b[0m\n",
            "\u001b[0;32m/usr/local/lib/python3.6/dist-packages/tensorflow/python/ops/gen_math_ops.py\u001b[0m in \u001b[0;36mminimum\u001b[0;34m(x, y, name)\u001b[0m\n\u001b[1;32m   5944\u001b[0m       _result = pywrap_tfe.TFE_Py_FastPathExecute(\n\u001b[1;32m   5945\u001b[0m         \u001b[0m_ctx\u001b[0m\u001b[0;34m.\u001b[0m\u001b[0m_context_handle\u001b[0m\u001b[0;34m,\u001b[0m \u001b[0mtld\u001b[0m\u001b[0;34m.\u001b[0m\u001b[0mdevice_name\u001b[0m\u001b[0;34m,\u001b[0m \u001b[0;34m\"Minimum\"\u001b[0m\u001b[0;34m,\u001b[0m \u001b[0mname\u001b[0m\u001b[0;34m,\u001b[0m\u001b[0;34m\u001b[0m\u001b[0;34m\u001b[0m\u001b[0m\n\u001b[0;32m-> 5946\u001b[0;31m         tld.op_callbacks, x, y)\n\u001b[0m\u001b[1;32m   5947\u001b[0m       \u001b[0;32mreturn\u001b[0m \u001b[0m_result\u001b[0m\u001b[0;34m\u001b[0m\u001b[0;34m\u001b[0m\u001b[0m\n\u001b[1;32m   5948\u001b[0m     \u001b[0;32mexcept\u001b[0m \u001b[0m_core\u001b[0m\u001b[0;34m.\u001b[0m\u001b[0m_FallbackException\u001b[0m\u001b[0;34m:\u001b[0m\u001b[0;34m\u001b[0m\u001b[0;34m\u001b[0m\u001b[0m\n",
            "\u001b[0;31mTypeError\u001b[0m: Cannot convert 1 to EagerTensor of dtype bool"
          ]
        }
      ]
    },
    {
      "cell_type": "code",
      "metadata": {
        "id": "9lWXgOhwWXvt",
        "colab_type": "code",
        "colab": {
          "base_uri": "https://localhost:8080/",
          "height": 34
        },
        "outputId": "dd3468f6-4617-4ae7-fec8-8dc00c5d41c1"
      },
      "source": [
        "sum(keras.metrics.accuracy(y_test, y_pred)[:, 0]) / len(y_test)"
      ],
      "execution_count": 61,
      "outputs": [
        {
          "output_type": "execute_result",
          "data": {
            "text/plain": [
              "<tf.Tensor: shape=(), dtype=float32, numpy=0.78694475>"
            ]
          },
          "metadata": {
            "tags": []
          },
          "execution_count": 61
        }
      ]
    },
    {
      "cell_type": "code",
      "metadata": {
        "id": "hTqorZYPWtIj",
        "colab_type": "code",
        "colab": {}
      },
      "source": [
        ""
      ],
      "execution_count": 0,
      "outputs": []
    }
  ]
}